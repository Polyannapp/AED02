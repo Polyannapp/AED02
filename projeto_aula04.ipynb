{
 "cells": [
  {
   "cell_type": "markdown",
   "id": "c699e1d1-39b3-4959-95ea-5979ecf641b6",
   "metadata": {},
   "source": [
    "#PROJETO"
   ]
  },
  {
   "cell_type": "code",
   "execution_count": 11,
   "id": "04e2d54c-1836-4098-b65c-805b21dc105d",
   "metadata": {},
   "outputs": [
    {
     "name": "stdout",
     "output_type": "stream",
     "text": [
      "Requirement already satisfied: unidecode in c:\\users\\alunos\\anaconda3\\lib\\site-packages (1.3.8)\n",
      "Note: you may need to restart the kernel to use updated packages.\n"
     ]
    }
   ],
   "source": [
    "pip install unidecode"
   ]
  },
  {
   "cell_type": "code",
   "execution_count": 23,
   "id": "c452d83c-c04d-4dc5-a3ee-36b04188e5e4",
   "metadata": {},
   "outputs": [
    {
     "name": "stdin",
     "output_type": "stream",
     "text": [
      "Digite parte do título do livro:  orgulho\n"
     ]
    },
    {
     "name": "stdout",
     "output_type": "stream",
     "text": [
      "Livros encontrados :):\n",
      "- Orgulho e Preconceito | Jane Austen | 1813.\n"
     ]
    }
   ],
   "source": [
    "#exemplo gpt 2\n",
    "\n",
    "# Lista de livros, aqui é uma busca por dicionário - estamos buscando por título\n",
    "livros = [\n",
    "    {\"titulo\": \"A Arte da Guerra\", \"autor\": \"Sun Tzu\", \"ano\": -500},\n",
    "    {\"titulo\": \"Dom Casmurro\", \"autor\": \"Machado de Assis\", \"ano\": 1899},\n",
    "    {\"titulo\": \"Memórias Póstumas de Brás Cubas\", \"autor\": \"Machado de Assis\", \"ano\": 1881},\n",
    "    {\"titulo\": \"O Alquimista\", \"autor\": \"Paulo Coelho\", \"ano\": 1988},\n",
    "    {\"titulo\": \"O Senhor dos Anéis\", \"autor\": \"J.R.R. Tolkien\", \"ano\": 1954},\n",
    "    {\"titulo\": \"Orgulho e Preconceito\", \"autor\": \"Jane Austen\", \"ano\": 1813}\n",
    "]\n",
    "\n",
    "# Função de busca por parte do título - aqui é onde ocorre a busca - ele vai buscar o título pelo meio, começo ou até com minusculas e maiusculas yeihhh\n",
    "from unidecode import unidecode\n",
    "def busca_livros(termo):\n",
    "    termo = unidecode(termo.lower())\n",
    "    resultados = []\n",
    "    for livro in livros:\n",
    "        titulo = unidecode(livro[\"titulo\"].lower())\n",
    "        if termo in titulo:\n",
    "            resultados.append(livro)\n",
    "    return resultados\n",
    "    \n",
    "termo = input(\"Digite parte do título do livro: \") #Aqui é na parte que o usuário busca o livro\n",
    "resultados = busca_livros(termo)\n",
    "\n",
    "if resultados:\n",
    "    print(\"Livros encontrados :):\")\n",
    "    for livro in resultados:\n",
    "        print(f\"- {livro['titulo']} | {livro['autor']} | {livro['ano']}.\")\n",
    "else:\n",
    "    print(\"Nenhum livro foi encontrado :(\")\n"
   ]
  },
  {
   "cell_type": "code",
   "execution_count": null,
   "id": "8a52d424-0936-465e-9cf3-1402dc1ccde1",
   "metadata": {},
   "outputs": [],
   "source": [
    "#unidecode é um módulo do python que trabalha com caracteres \"unicode\" - ou seja, todos os símbolos, letras e acentos em diferentes idiomas.\n",
    "##Usei ele pra conseguir buscar o livro através de uma única palavra, será meu companheiro pra sempre agora.\n",
    "### Deixei os comentários no código pq foi eu que fiz os comentários."
   ]
  },
  {
   "cell_type": "code",
   "execution_count": null,
   "id": "48690946-dc97-4be5-ab3c-87451ea4eeda",
   "metadata": {},
   "outputs": [],
   "source": []
  },
  {
   "cell_type": "code",
   "execution_count": null,
   "id": "95945512-f132-4109-811c-4c043df9edac",
   "metadata": {},
   "outputs": [],
   "source": []
  }
 ],
 "metadata": {
  "kernelspec": {
   "display_name": "Python 3 (ipykernel)",
   "language": "python",
   "name": "python3"
  },
  "language_info": {
   "codemirror_mode": {
    "name": "ipython",
    "version": 3
   },
   "file_extension": ".py",
   "mimetype": "text/x-python",
   "name": "python",
   "nbconvert_exporter": "python",
   "pygments_lexer": "ipython3",
   "version": "3.13.5"
  }
 },
 "nbformat": 4,
 "nbformat_minor": 5
}
